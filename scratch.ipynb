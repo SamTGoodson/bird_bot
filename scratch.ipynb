{
 "cells": [
  {
   "cell_type": "code",
   "execution_count": 301,
   "metadata": {},
   "outputs": [],
   "source": [
    "import pandas as pd\n",
    "import json\n",
    "from datetime import datetime, timezone,date\n",
    "from atproto import Client\n",
    "from ebird.api import get_nearby_notable,get_totals,get_notable_observations, get_observations, get_visits,get_checklist, get_species_observations\n",
    "from dotenv import load_dotenv\n",
    "import os\n",
    "import requests"
   ]
  },
  {
   "cell_type": "code",
   "execution_count": 129,
   "metadata": {},
   "outputs": [],
   "source": [
    "from PIL import Image\n",
    "from io import BytesIO"
   ]
  },
  {
   "cell_type": "code",
   "execution_count": 417,
   "metadata": {},
   "outputs": [],
   "source": [
    "import unicodedata"
   ]
  },
  {
   "cell_type": "code",
   "execution_count": 210,
   "metadata": {},
   "outputs": [],
   "source": [
    "import time"
   ]
  },
  {
   "cell_type": "code",
   "execution_count": 326,
   "metadata": {},
   "outputs": [],
   "source": [
    "from inspect import getclasstree"
   ]
  },
  {
   "cell_type": "code",
   "execution_count": 17,
   "metadata": {},
   "outputs": [],
   "source": [
    "today = datetime.today().strftime('%Y-%m-%d')"
   ]
  },
  {
   "cell_type": "code",
   "execution_count": 9,
   "metadata": {},
   "outputs": [
    {
     "data": {
      "text/plain": [
       "True"
      ]
     },
     "execution_count": 9,
     "metadata": {},
     "output_type": "execute_result"
    }
   ],
   "source": [
    "load_dotenv()"
   ]
  },
  {
   "cell_type": "code",
   "execution_count": 77,
   "metadata": {},
   "outputs": [],
   "source": [
    "bird_key = os.getenv(\"bird_key\")\n",
    "nuthatch_key = os.getenv(\"nuthatch\")\n",
    "bsky_username = os.getenv(\"bsky_username\")\n",
    "bsky_password = os.getenv(\"bsky_password\")"
   ]
  },
  {
   "cell_type": "code",
   "execution_count": 15,
   "metadata": {},
   "outputs": [
    {
     "data": {
      "text/plain": [
       "ProfileViewDetailed(did='did:plc:ct7g3cvr2jqqtdxlkdorqqft', handle='ny-state-birds.bsky.social', associated=ProfileAssociated(chat=None, feedgens=0, labeler=False, lists=0, starter_packs=0, py_type='app.bsky.actor.defs#profileAssociated'), avatar='https://cdn.bsky.app/img/avatar/plain/did:plc:ct7g3cvr2jqqtdxlkdorqqft/bafkreiahaypxmz5hd7suxzdjjxdqjiakz7wkqcxwga5llnnkq6cp6hpb2i@jpeg', banner=None, created_at='2024-12-31T16:42:17.744Z', description=None, display_name='', followers_count=1, follows_count=1, indexed_at='2024-12-31T16:42:17.744Z', joined_via_starter_pack=None, labels=[], pinned_post=None, posts_count=0, viewer=ViewerState(blocked_by=False, blocking=None, blocking_by_list=None, followed_by=None, following=None, known_followers=None, muted=False, muted_by_list=None, py_type='app.bsky.actor.defs#viewerState'), py_type='app.bsky.actor.defs#profileViewDetailed')"
      ]
     },
     "execution_count": 15,
     "metadata": {},
     "output_type": "execute_result"
    }
   ],
   "source": [
    "client = Client()\n",
    "client.login(bsky_username, bsky_password)"
   ]
  },
  {
   "cell_type": "code",
   "execution_count": 336,
   "metadata": {},
   "outputs": [],
   "source": [
    "def find_local_notables(lat, lon, dist,bird_key):\n",
    "    notables = get_nearby_notable(bird_key,lat, lon, dist,back=1)\n",
    "    notables_df = pd.DataFrame(notables)\n",
    "    notables_df = notables_df.drop_duplicates(subset=['comName'])\n",
    "    return notables_df"
   ]
  },
  {
   "cell_type": "code",
   "execution_count": 331,
   "metadata": {},
   "outputs": [],
   "source": [
    "notables = get_nearby_notable(bird_key, 40.01, -74.00, dist=50,back=1)\n",
    "notables_df = pd.DataFrame(notables)"
   ]
  },
  {
   "cell_type": "code",
   "execution_count": 335,
   "metadata": {},
   "outputs": [
    {
     "data": {
      "text/plain": [
       "'2024-12-30 16:43'"
      ]
     },
     "execution_count": 335,
     "metadata": {},
     "output_type": "execute_result"
    }
   ],
   "source": [
    "notables_df['obsDt'].min()"
   ]
  },
  {
   "cell_type": "code",
   "execution_count": 330,
   "metadata": {},
   "outputs": [],
   "source": [
    "notables_df['obsDt'] = pd.to_datetime(notables_df['obsDt'])  \n",
    "today = datetime.today().date()"
   ]
  },
  {
   "cell_type": "code",
   "execution_count": 178,
   "metadata": {},
   "outputs": [],
   "source": [
    "today_observations = notables_df[notables_df['obsDt'].dt.date == today]"
   ]
  },
  {
   "cell_type": "code",
   "execution_count": 346,
   "metadata": {},
   "outputs": [],
   "source": [
    "local_notables = find_local_notables(40.01, -74.00,50, bird_key)"
   ]
  },
  {
   "cell_type": "code",
   "execution_count": 400,
   "metadata": {},
   "outputs": [
    {
     "data": {
      "text/html": [
       "<div>\n",
       "<style scoped>\n",
       "    .dataframe tbody tr th:only-of-type {\n",
       "        vertical-align: middle;\n",
       "    }\n",
       "\n",
       "    .dataframe tbody tr th {\n",
       "        vertical-align: top;\n",
       "    }\n",
       "\n",
       "    .dataframe thead th {\n",
       "        text-align: right;\n",
       "    }\n",
       "</style>\n",
       "<table border=\"1\" class=\"dataframe\">\n",
       "  <thead>\n",
       "    <tr style=\"text-align: right;\">\n",
       "      <th></th>\n",
       "      <th>speciesCode</th>\n",
       "      <th>comName</th>\n",
       "      <th>sciName</th>\n",
       "      <th>locId</th>\n",
       "      <th>locName</th>\n",
       "      <th>obsDt</th>\n",
       "      <th>howMany</th>\n",
       "      <th>lat</th>\n",
       "      <th>lng</th>\n",
       "      <th>obsValid</th>\n",
       "      <th>obsReviewed</th>\n",
       "      <th>locationPrivate</th>\n",
       "      <th>subId</th>\n",
       "    </tr>\n",
       "  </thead>\n",
       "  <tbody>\n",
       "    <tr>\n",
       "      <th>2</th>\n",
       "      <td>yetwar</td>\n",
       "      <td>Yellow-throated Warbler</td>\n",
       "      <td>Setophaga dominica</td>\n",
       "      <td>L15446407</td>\n",
       "      <td>Lakehurst--Willow Lake at Leisure Village West</td>\n",
       "      <td>2024-12-31 13:35</td>\n",
       "      <td>1</td>\n",
       "      <td>40.018682</td>\n",
       "      <td>-74.274010</td>\n",
       "      <td>False</td>\n",
       "      <td>False</td>\n",
       "      <td>False</td>\n",
       "      <td>S207359810</td>\n",
       "    </tr>\n",
       "    <tr>\n",
       "      <th>0</th>\n",
       "      <td>eurwig</td>\n",
       "      <td>Eurasian Wigeon</td>\n",
       "      <td>Mareca penelope</td>\n",
       "      <td>L298359</td>\n",
       "      <td>Lake of the Lilies</td>\n",
       "      <td>2024-12-31 14:59</td>\n",
       "      <td>1</td>\n",
       "      <td>40.083024</td>\n",
       "      <td>-74.043197</td>\n",
       "      <td>False</td>\n",
       "      <td>False</td>\n",
       "      <td>False</td>\n",
       "      <td>S207368014</td>\n",
       "    </tr>\n",
       "    <tr>\n",
       "      <th>18</th>\n",
       "      <td>laugul</td>\n",
       "      <td>Laughing Gull</td>\n",
       "      <td>Leucophaeus atricilla</td>\n",
       "      <td>L161004</td>\n",
       "      <td>Barnegat Lighthouse SP</td>\n",
       "      <td>2024-12-31 09:44</td>\n",
       "      <td>2</td>\n",
       "      <td>39.763333</td>\n",
       "      <td>-74.105833</td>\n",
       "      <td>False</td>\n",
       "      <td>False</td>\n",
       "      <td>False</td>\n",
       "      <td>S207372652</td>\n",
       "    </tr>\n",
       "  </tbody>\n",
       "</table>\n",
       "</div>"
      ],
      "text/plain": [
       "   speciesCode                  comName                sciName      locId  \\\n",
       "2       yetwar  Yellow-throated Warbler     Setophaga dominica  L15446407   \n",
       "0       eurwig          Eurasian Wigeon        Mareca penelope    L298359   \n",
       "18      laugul            Laughing Gull  Leucophaeus atricilla    L161004   \n",
       "\n",
       "                                           locName             obsDt  howMany  \\\n",
       "2   Lakehurst--Willow Lake at Leisure Village West  2024-12-31 13:35        1   \n",
       "0                               Lake of the Lilies  2024-12-31 14:59        1   \n",
       "18                          Barnegat Lighthouse SP  2024-12-31 09:44        2   \n",
       "\n",
       "          lat        lng  obsValid  obsReviewed  locationPrivate       subId  \n",
       "2   40.018682 -74.274010     False        False            False  S207359810  \n",
       "0   40.083024 -74.043197     False        False            False  S207368014  \n",
       "18  39.763333 -74.105833     False        False            False  S207372652  "
      ]
     },
     "execution_count": 400,
     "metadata": {},
     "output_type": "execute_result"
    }
   ],
   "source": [
    "short_df = local_notables.sample(3)\n",
    "short_df"
   ]
  },
  {
   "cell_type": "code",
   "execution_count": 401,
   "metadata": {},
   "outputs": [],
   "source": [
    "b_list = short_df['comName'].tolist()"
   ]
  },
  {
   "cell_type": "code",
   "execution_count": null,
   "metadata": {},
   "outputs": [],
   "source": [
    "def make_list(df,num=3):\n",
    "    df = df.head(num)\n",
    "    b_list = df['comName'].tolist()\n",
    "    return b_list"
   ]
  },
  {
   "cell_type": "code",
   "execution_count": 431,
   "metadata": {},
   "outputs": [],
   "source": [
    "url = 'https://nuthatch.lastelm.software/v2/birds'\n",
    "\n",
    "\n",
    "params = {\n",
    "    'page': 1,\n",
    "    'pageSize': 1,\n",
    "    'name': 'yellow-throated warbler',\n",
    "    'operator': 'AND'\n",
    "}\n",
    "\n",
    "\n",
    "headers = {\n",
    "    'accept': 'application/json',\n",
    "    'API-Key': nuthatch_key\n",
    "}\n",
    "\n"
   ]
  },
  {
   "cell_type": "code",
   "execution_count": 432,
   "metadata": {},
   "outputs": [],
   "source": [
    "response = requests.get(url, headers=headers, params=params)"
   ]
  },
  {
   "cell_type": "code",
   "execution_count": 433,
   "metadata": {},
   "outputs": [
    {
     "data": {
      "text/plain": [
       "{'entities': [{'images': [],\n",
       "   'lengthMin': '13',\n",
       "   'lengthMax': '14',\n",
       "   'name': 'Yellow-throated Warbler',\n",
       "   'id': 609,\n",
       "   'sciName': 'Setophaga dominica',\n",
       "   'region': ['North America'],\n",
       "   'family': 'Parulidae',\n",
       "   'order': 'Passeriformes',\n",
       "   'status': 'Low Concern'}],\n",
       " 'total': 1,\n",
       " 'page': 1,\n",
       " 'pageSize': 1}"
      ]
     },
     "execution_count": 433,
     "metadata": {},
     "output_type": "execute_result"
    }
   ],
   "source": [
    "response.json()"
   ]
  },
  {
   "cell_type": "code",
   "execution_count": 363,
   "metadata": {},
   "outputs": [],
   "source": [
    "response.json()\n",
    "data = response.json()\n",
    "entity = data['entities'][0]\n",
    "sci_name = entity['sciName']\n",
    "images = entity['images']  \n",
    "image_1 = images[0]\n",
    "wingspan_max = entity['wingspanMax']\n",
    "family = entity['family']\n",
    "order = entity['order']\n",
    "status = entity['status']\n",
    "region = entity['region'][0] "
   ]
  },
  {
   "cell_type": "code",
   "execution_count": 366,
   "metadata": {},
   "outputs": [
    {
     "data": {
      "text/plain": [
       "'https://images.unsplash.com/photo-1518570931581-f1d6f674af1b'"
      ]
     },
     "execution_count": 366,
     "metadata": {},
     "output_type": "execute_result"
    }
   ],
   "source": [
    "image_1"
   ]
  },
  {
   "cell_type": "code",
   "execution_count": 341,
   "metadata": {},
   "outputs": [
    {
     "name": "stdout",
     "output_type": "stream",
     "text": [
      "Picidae Piciformes Dryocopus pileatus\n"
     ]
    }
   ],
   "source": [
    "print(family,order,sci_name)"
   ]
  },
  {
   "cell_type": "code",
   "execution_count": null,
   "metadata": {},
   "outputs": [],
   "source": [
    "response = requests.get(url, headers=headers, params=params)"
   ]
  },
  {
   "cell_type": "code",
   "execution_count": 376,
   "metadata": {},
   "outputs": [],
   "source": [
    "one = local_notables.sample(1)"
   ]
  },
  {
   "cell_type": "code",
   "execution_count": 383,
   "metadata": {},
   "outputs": [
    {
     "data": {
      "text/html": [
       "<div>\n",
       "<style scoped>\n",
       "    .dataframe tbody tr th:only-of-type {\n",
       "        vertical-align: middle;\n",
       "    }\n",
       "\n",
       "    .dataframe tbody tr th {\n",
       "        vertical-align: top;\n",
       "    }\n",
       "\n",
       "    .dataframe thead th {\n",
       "        text-align: right;\n",
       "    }\n",
       "</style>\n",
       "<table border=\"1\" class=\"dataframe\">\n",
       "  <thead>\n",
       "    <tr style=\"text-align: right;\">\n",
       "      <th></th>\n",
       "      <th>speciesCode</th>\n",
       "      <th>comName</th>\n",
       "      <th>sciName</th>\n",
       "      <th>locId</th>\n",
       "      <th>locName</th>\n",
       "      <th>obsDt</th>\n",
       "      <th>howMany</th>\n",
       "      <th>lat</th>\n",
       "      <th>lng</th>\n",
       "      <th>obsValid</th>\n",
       "      <th>obsReviewed</th>\n",
       "      <th>locationPrivate</th>\n",
       "      <th>subId</th>\n",
       "    </tr>\n",
       "  </thead>\n",
       "  <tbody>\n",
       "    <tr>\n",
       "      <th>8</th>\n",
       "      <td>bkcchi</td>\n",
       "      <td>Black-capped Chickadee</td>\n",
       "      <td>Poecile atricapillus</td>\n",
       "      <td>L197353</td>\n",
       "      <td>Sandy Hook</td>\n",
       "      <td>2024-12-31 11:48</td>\n",
       "      <td>2</td>\n",
       "      <td>40.439252</td>\n",
       "      <td>-73.986926</td>\n",
       "      <td>False</td>\n",
       "      <td>False</td>\n",
       "      <td>False</td>\n",
       "      <td>S207367318</td>\n",
       "    </tr>\n",
       "  </tbody>\n",
       "</table>\n",
       "</div>"
      ],
      "text/plain": [
       "  speciesCode                 comName               sciName    locId  \\\n",
       "8      bkcchi  Black-capped Chickadee  Poecile atricapillus  L197353   \n",
       "\n",
       "      locName             obsDt  howMany        lat        lng  obsValid  \\\n",
       "8  Sandy Hook  2024-12-31 11:48        2  40.439252 -73.986926     False   \n",
       "\n",
       "   obsReviewed  locationPrivate       subId  \n",
       "8        False            False  S207367318  "
      ]
     },
     "execution_count": 383,
     "metadata": {},
     "output_type": "execute_result"
    }
   ],
   "source": [
    "one"
   ]
  },
  {
   "cell_type": "code",
   "execution_count": 388,
   "metadata": {},
   "outputs": [],
   "source": [
    "def get_bird_info(df,url,headers):\n",
    "    name = df['comName'].unique()[0]\n",
    "    locname = df['locName'].unique()[0]\n",
    "    cl_key = df['subId'].unique()[0]\n",
    "    params = {\n",
    "    'page': 1,\n",
    "    'pageSize': 1,\n",
    "    'name': name,\n",
    "    'operator': 'AND'\n",
    "    }   \n",
    "    response = requests.get(url, headers=headers, params=params)\n",
    "\n",
    "    response.json()\n",
    "    data = response.json()\n",
    "    entity = data['entities'][0]\n",
    "    sci_name = entity['sciName']\n",
    "    images = entity['images']  \n",
    "    if images:\n",
    "        image_1 = images[0]\n",
    "    else:\n",
    "        image_1 = \"No image available\"\n",
    "    status = entity['status']\n",
    "    family = entity['family']\n",
    "    order = entity['order']\n",
    "    region = entity['region'][0] \n",
    "\n",
    "    return sci_name, name, image_1, status, region,locname,family,order,cl_key"
   ]
  },
  {
   "cell_type": "code",
   "execution_count": 379,
   "metadata": {},
   "outputs": [],
   "source": [
    "sci_name,name,image,concern,region,locname = get_bird_info(one,url,headers)"
   ]
  },
  {
   "cell_type": "code",
   "execution_count": 427,
   "metadata": {},
   "outputs": [],
   "source": [
    "def write_nyc_text(df,url,headers):\n",
    "    sci_name,name,image,concern,region,locname,family,order,cl_id = get_bird_info(df,url,headers)\n",
    "    text = f\"Notable bird near NYC! The {name}, also known as the {sci_name}. It was spotted at {locname}. An image of the {name} is below, if available. Here is a link to the eBird checklist https://ebird.org/checklist/{cl_id}\"\n",
    "    return text,image,name"
   ]
  },
  {
   "cell_type": "code",
   "execution_count": 424,
   "metadata": {},
   "outputs": [],
   "source": [
    "a,b,c = write_nyc_text(local_notables,url,headers)"
   ]
  },
  {
   "cell_type": "code",
   "execution_count": 420,
   "metadata": {},
   "outputs": [],
   "source": [
    "def count_graphemes(text):\n",
    "    return sum(1 for _ in unicodedata.normalize('NFC', text))"
   ]
  },
  {
   "cell_type": "code",
   "execution_count": 425,
   "metadata": {},
   "outputs": [
    {
     "data": {
      "text/plain": [
       "250"
      ]
     },
     "execution_count": 425,
     "metadata": {},
     "output_type": "execute_result"
    }
   ],
   "source": [
    "count_graphemes(a)"
   ]
  },
  {
   "cell_type": "code",
   "execution_count": 218,
   "metadata": {},
   "outputs": [],
   "source": [
    "def post(df, url, headers, max_width=800, max_height=600):\n",
    "    text, image_url, name = write_nyc_text(df, url, headers)\n",
    "    response = requests.get(image_url)\n",
    "    response.raise_for_status()  \n",
    "    image = Image.open(BytesIO(response.content))\n",
    "    image.thumbnail((max_width, max_height)) \n",
    "    img_byte_arr = BytesIO()\n",
    "    image.save(img_byte_arr, format='JPEG') \n",
    "    img_byte_arr = img_byte_arr.getvalue()\n",
    "    client.send_image(text=text, image=img_byte_arr, image_alt=name)\n",
    "\n",
    "    print(\"post made\")\n"
   ]
  },
  {
   "cell_type": "code",
   "execution_count": 394,
   "metadata": {},
   "outputs": [],
   "source": [
    "def post(df, url, headers, max_width=800, max_height=600):\n",
    "    text, image_url, name = write_nyc_text(df, url, headers)\n",
    "    \n",
    "    if image_url and image_url != \"No image available\":  \n",
    "        try:\n",
    "            response = requests.get(image_url)\n",
    "            response.raise_for_status()  \n",
    "            image = Image.open(BytesIO(response.content))\n",
    "            image.thumbnail((max_width, max_height)) \n",
    "            img_byte_arr = BytesIO()\n",
    "            image.save(img_byte_arr, format='JPEG') \n",
    "            img_byte_arr = img_byte_arr.getvalue()\n",
    "            \n",
    "            client.send_image(text=text, image=img_byte_arr, image_alt=name)\n",
    "        except Exception as e:\n",
    "            print(f\"Failed to process the image: {e}\")\n",
    "            client.send_post(text=text)\n",
    "    else:\n",
    "        client.send_post(text=text)\n",
    "    \n",
    "    print(\"Post made\")\n"
   ]
  },
  {
   "cell_type": "code",
   "execution_count": 131,
   "metadata": {},
   "outputs": [
    {
     "name": "stdout",
     "output_type": "stream",
     "text": [
      "postt made\n"
     ]
    }
   ],
   "source": [
    "post(local_notables,url,headers)"
   ]
  },
  {
   "cell_type": "code",
   "execution_count": 219,
   "metadata": {},
   "outputs": [
    {
     "name": "stdout",
     "output_type": "stream",
     "text": [
      "post made\n",
      "post made\n",
      "post made\n"
     ]
    }
   ],
   "source": [
    "for bird in b_list:\n",
    "    df = short_df[short_df['comName'] == bird]\n",
    "    post(df,url,headers)\n",
    "    time.sleep(5)"
   ]
  },
  {
   "cell_type": "code",
   "execution_count": 404,
   "metadata": {},
   "outputs": [],
   "source": [
    "def post_list(short_df,url,headers):\n",
    "    for bird in b_list:\n",
    "        df = short_df[short_df['comName'] == bird]\n",
    "        post(df,url,headers)\n",
    "        time.sleep(5)"
   ]
  },
  {
   "cell_type": "code",
   "execution_count": 402,
   "metadata": {},
   "outputs": [
    {
     "name": "stdout",
     "output_type": "stream",
     "text": [
      "Yellow-throated Warbler\n",
      "Eurasian Wigeon\n",
      "Laughing Gull\n"
     ]
    }
   ],
   "source": [
    "for bird in b_list:\n",
    "    print(bird)"
   ]
  },
  {
   "cell_type": "code",
   "execution_count": 426,
   "metadata": {},
   "outputs": [
    {
     "name": "stdout",
     "output_type": "stream",
     "text": [
      "Post made\n",
      "Post made\n",
      "Post made\n"
     ]
    }
   ],
   "source": [
    "post_list(short_df,url,headers)"
   ]
  },
  {
   "cell_type": "code",
   "execution_count": 286,
   "metadata": {},
   "outputs": [],
   "source": [
    "state_records = get_observations(bird_key, 'US-NY-047')"
   ]
  },
  {
   "cell_type": "code",
   "execution_count": 287,
   "metadata": {},
   "outputs": [],
   "source": [
    "state_records_df = pd.DataFrame(state_records)"
   ]
  },
  {
   "cell_type": "code",
   "execution_count": 288,
   "metadata": {},
   "outputs": [
    {
     "data": {
      "text/plain": [
       "(69, 14)"
      ]
     },
     "execution_count": 288,
     "metadata": {},
     "output_type": "execute_result"
    }
   ],
   "source": [
    "state_records_df['obsDt'] = pd.to_datetime(state_records_df['obsDt'])\n",
    "today_state = state_records_df[state_records_df['obsDt'].dt.date == today]\n",
    "today_state.shape"
   ]
  },
  {
   "cell_type": "code",
   "execution_count": 302,
   "metadata": {},
   "outputs": [
    {
     "data": {
      "text/html": [
       "<div>\n",
       "<style scoped>\n",
       "    .dataframe tbody tr th:only-of-type {\n",
       "        vertical-align: middle;\n",
       "    }\n",
       "\n",
       "    .dataframe tbody tr th {\n",
       "        vertical-align: top;\n",
       "    }\n",
       "\n",
       "    .dataframe thead th {\n",
       "        text-align: right;\n",
       "    }\n",
       "</style>\n",
       "<table border=\"1\" class=\"dataframe\">\n",
       "  <thead>\n",
       "    <tr style=\"text-align: right;\">\n",
       "      <th></th>\n",
       "      <th>speciesCode</th>\n",
       "      <th>comName</th>\n",
       "      <th>sciName</th>\n",
       "      <th>locId</th>\n",
       "      <th>locName</th>\n",
       "      <th>obsDt</th>\n",
       "      <th>howMany</th>\n",
       "      <th>lat</th>\n",
       "      <th>lng</th>\n",
       "      <th>obsValid</th>\n",
       "      <th>obsReviewed</th>\n",
       "      <th>locationPrivate</th>\n",
       "      <th>subId</th>\n",
       "      <th>exoticCategory</th>\n",
       "    </tr>\n",
       "  </thead>\n",
       "  <tbody>\n",
       "    <tr>\n",
       "      <th>0</th>\n",
       "      <td>moudov</td>\n",
       "      <td>Mourning Dove</td>\n",
       "      <td>Zenaida macroura</td>\n",
       "      <td>L39034518</td>\n",
       "      <td>175 Lefferts Ave, New York US-NY 40.66228, -73...</td>\n",
       "      <td>2024-12-31 12:29:00</td>\n",
       "      <td>15</td>\n",
       "      <td>40.662278</td>\n",
       "      <td>-73.955432</td>\n",
       "      <td>True</td>\n",
       "      <td>False</td>\n",
       "      <td>True</td>\n",
       "      <td>S207342141</td>\n",
       "      <td>NaN</td>\n",
       "    </tr>\n",
       "    <tr>\n",
       "      <th>1</th>\n",
       "      <td>ribgul</td>\n",
       "      <td>Ring-billed Gull</td>\n",
       "      <td>Larus delawarensis</td>\n",
       "      <td>L39034518</td>\n",
       "      <td>175 Lefferts Ave, New York US-NY 40.66228, -73...</td>\n",
       "      <td>2024-12-31 12:29:00</td>\n",
       "      <td>1</td>\n",
       "      <td>40.662278</td>\n",
       "      <td>-73.955432</td>\n",
       "      <td>True</td>\n",
       "      <td>False</td>\n",
       "      <td>True</td>\n",
       "      <td>S207342141</td>\n",
       "      <td>NaN</td>\n",
       "    </tr>\n",
       "  </tbody>\n",
       "</table>\n",
       "</div>"
      ],
      "text/plain": [
       "  speciesCode           comName             sciName      locId  \\\n",
       "0      moudov     Mourning Dove    Zenaida macroura  L39034518   \n",
       "1      ribgul  Ring-billed Gull  Larus delawarensis  L39034518   \n",
       "\n",
       "                                             locName               obsDt  \\\n",
       "0  175 Lefferts Ave, New York US-NY 40.66228, -73... 2024-12-31 12:29:00   \n",
       "1  175 Lefferts Ave, New York US-NY 40.66228, -73... 2024-12-31 12:29:00   \n",
       "\n",
       "   howMany        lat        lng  obsValid  obsReviewed  locationPrivate  \\\n",
       "0       15  40.662278 -73.955432      True        False             True   \n",
       "1        1  40.662278 -73.955432      True        False             True   \n",
       "\n",
       "        subId exoticCategory  \n",
       "0  S207342141            NaN  \n",
       "1  S207342141            NaN  "
      ]
     },
     "execution_count": 302,
     "metadata": {},
     "output_type": "execute_result"
    }
   ],
   "source": [
    "today_state.head(2)"
   ]
  },
  {
   "cell_type": "code",
   "execution_count": 303,
   "metadata": {},
   "outputs": [],
   "source": [
    "brooklyn_bird_list = today_state['speciesCode'].tolist()"
   ]
  },
  {
   "cell_type": "code",
   "execution_count": 295,
   "metadata": {},
   "outputs": [],
   "source": [
    "checklist = get_checklist(bird_key, 'S207342141')"
   ]
  },
  {
   "cell_type": "code",
   "execution_count": 284,
   "metadata": {},
   "outputs": [],
   "source": [
    "totals = get_totals(bird_key, 'US-NY-047', date.today())"
   ]
  },
  {
   "cell_type": "code",
   "execution_count": 310,
   "metadata": {},
   "outputs": [
    {
     "data": {
      "text/html": [
       "<div>\n",
       "<style scoped>\n",
       "    .dataframe tbody tr th:only-of-type {\n",
       "        vertical-align: middle;\n",
       "    }\n",
       "\n",
       "    .dataframe tbody tr th {\n",
       "        vertical-align: top;\n",
       "    }\n",
       "\n",
       "    .dataframe thead th {\n",
       "        text-align: right;\n",
       "    }\n",
       "</style>\n",
       "<table border=\"1\" class=\"dataframe\">\n",
       "  <thead>\n",
       "    <tr style=\"text-align: right;\">\n",
       "      <th></th>\n",
       "      <th>comName</th>\n",
       "      <th>howMany</th>\n",
       "    </tr>\n",
       "  </thead>\n",
       "  <tbody>\n",
       "    <tr>\n",
       "      <th>0</th>\n",
       "      <td>Mourning Dove</td>\n",
       "      <td>497</td>\n",
       "    </tr>\n",
       "  </tbody>\n",
       "</table>\n",
       "</div>"
      ],
      "text/plain": [
       "         comName  howMany\n",
       "0  Mourning Dove      497"
      ]
     },
     "execution_count": 310,
     "metadata": {},
     "output_type": "execute_result"
    }
   ],
   "source": [
    "records = get_species_observations(bird_key, 'moudov', 'US-NY-047')\n",
    "records_df = pd.DataFrame(records)\n",
    "records_df.groupby('comName')['howMany'].sum().sort_values(ascending=False).reset_index()"
   ]
  },
  {
   "cell_type": "code",
   "execution_count": 313,
   "metadata": {},
   "outputs": [],
   "source": [
    "def get_counts(bird_list):\n",
    "    day_count = pd.DataFrame()\n",
    "    for bird in bird_list:\n",
    "        records = get_species_observations(bird_key, bird, 'US-NY-047')\n",
    "        \n",
    "        records_df = pd.DataFrame(records)\n",
    "        summarized_df = (\n",
    "            records_df.groupby('comName')['howMany']\n",
    "            .sum()\n",
    "            .sort_values(ascending=False)\n",
    "            .reset_index()\n",
    "        )\n",
    "        day_count = pd.concat([day_count, summarized_df], ignore_index=True)\n",
    "    \n",
    "    return day_count"
   ]
  },
  {
   "cell_type": "code",
   "execution_count": 314,
   "metadata": {},
   "outputs": [],
   "source": [
    "day_count = get_counts(brooklyn_bird_list)"
   ]
  },
  {
   "cell_type": "code",
   "execution_count": 317,
   "metadata": {},
   "outputs": [
    {
     "data": {
      "text/html": [
       "<div>\n",
       "<style scoped>\n",
       "    .dataframe tbody tr th:only-of-type {\n",
       "        vertical-align: middle;\n",
       "    }\n",
       "\n",
       "    .dataframe tbody tr th {\n",
       "        vertical-align: top;\n",
       "    }\n",
       "\n",
       "    .dataframe thead th {\n",
       "        text-align: right;\n",
       "    }\n",
       "</style>\n",
       "<table border=\"1\" class=\"dataframe\">\n",
       "  <thead>\n",
       "    <tr style=\"text-align: right;\">\n",
       "      <th></th>\n",
       "      <th>comName</th>\n",
       "      <th>howMany</th>\n",
       "    </tr>\n",
       "  </thead>\n",
       "  <tbody>\n",
       "    <tr>\n",
       "      <th>36</th>\n",
       "      <td>Brant</td>\n",
       "      <td>8131.0</td>\n",
       "    </tr>\n",
       "    <tr>\n",
       "      <th>7</th>\n",
       "      <td>Canada Goose</td>\n",
       "      <td>3925.0</td>\n",
       "    </tr>\n",
       "    <tr>\n",
       "      <th>1</th>\n",
       "      <td>Ring-billed Gull</td>\n",
       "      <td>2289.0</td>\n",
       "    </tr>\n",
       "    <tr>\n",
       "      <th>12</th>\n",
       "      <td>Rock Pigeon</td>\n",
       "      <td>2214.0</td>\n",
       "    </tr>\n",
       "    <tr>\n",
       "      <th>15</th>\n",
       "      <td>American Herring Gull</td>\n",
       "      <td>1402.0</td>\n",
       "    </tr>\n",
       "    <tr>\n",
       "      <th>13</th>\n",
       "      <td>European Starling</td>\n",
       "      <td>1174.0</td>\n",
       "    </tr>\n",
       "    <tr>\n",
       "      <th>2</th>\n",
       "      <td>House Sparrow</td>\n",
       "      <td>708.0</td>\n",
       "    </tr>\n",
       "    <tr>\n",
       "      <th>42</th>\n",
       "      <td>Greater Scaup</td>\n",
       "      <td>701.0</td>\n",
       "    </tr>\n",
       "    <tr>\n",
       "      <th>41</th>\n",
       "      <td>Red-breasted Merganser</td>\n",
       "      <td>667.0</td>\n",
       "    </tr>\n",
       "    <tr>\n",
       "      <th>29</th>\n",
       "      <td>Ruddy Duck</td>\n",
       "      <td>612.0</td>\n",
       "    </tr>\n",
       "    <tr>\n",
       "      <th>35</th>\n",
       "      <td>Double-crested Cormorant</td>\n",
       "      <td>548.0</td>\n",
       "    </tr>\n",
       "    <tr>\n",
       "      <th>0</th>\n",
       "      <td>Mourning Dove</td>\n",
       "      <td>497.0</td>\n",
       "    </tr>\n",
       "    <tr>\n",
       "      <th>37</th>\n",
       "      <td>Fish Crow</td>\n",
       "      <td>435.0</td>\n",
       "    </tr>\n",
       "    <tr>\n",
       "      <th>21</th>\n",
       "      <td>Bufflehead</td>\n",
       "      <td>396.0</td>\n",
       "    </tr>\n",
       "    <tr>\n",
       "      <th>17</th>\n",
       "      <td>American Crow</td>\n",
       "      <td>377.0</td>\n",
       "    </tr>\n",
       "  </tbody>\n",
       "</table>\n",
       "</div>"
      ],
      "text/plain": [
       "                     comName  howMany\n",
       "36                     Brant   8131.0\n",
       "7               Canada Goose   3925.0\n",
       "1           Ring-billed Gull   2289.0\n",
       "12               Rock Pigeon   2214.0\n",
       "15     American Herring Gull   1402.0\n",
       "13         European Starling   1174.0\n",
       "2              House Sparrow    708.0\n",
       "42             Greater Scaup    701.0\n",
       "41    Red-breasted Merganser    667.0\n",
       "29                Ruddy Duck    612.0\n",
       "35  Double-crested Cormorant    548.0\n",
       "0              Mourning Dove    497.0\n",
       "37                 Fish Crow    435.0\n",
       "21                Bufflehead    396.0\n",
       "17             American Crow    377.0"
      ]
     },
     "execution_count": 317,
     "metadata": {},
     "output_type": "execute_result"
    }
   ],
   "source": [
    "day_count.sort_values('howMany',ascending=False).head(15)"
   ]
  }
 ],
 "metadata": {
  "kernelspec": {
   "display_name": "myenv",
   "language": "python",
   "name": "python3"
  },
  "language_info": {
   "codemirror_mode": {
    "name": "ipython",
    "version": 3
   },
   "file_extension": ".py",
   "mimetype": "text/x-python",
   "name": "python",
   "nbconvert_exporter": "python",
   "pygments_lexer": "ipython3",
   "version": "3.11.4"
  }
 },
 "nbformat": 4,
 "nbformat_minor": 2
}
